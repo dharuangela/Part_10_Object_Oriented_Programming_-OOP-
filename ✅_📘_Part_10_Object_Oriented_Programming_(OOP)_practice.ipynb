{
  "nbformat": 4,
  "nbformat_minor": 0,
  "metadata": {
    "colab": {
      "provenance": []
    },
    "kernelspec": {
      "name": "python3",
      "display_name": "Python 3"
    },
    "language_info": {
      "name": "python"
    }
  },
  "cells": [
    {
      "cell_type": "markdown",
      "source": [
        "# **📌 1️⃣ What is OOP?**\n",
        "\n",
        "### What is OOP?\n",
        "\n",
        "- Organizes code into **classes** (blueprints) and **objects** (real instances)\n",
        "- Groups **data + functions** together\n",
        "- Makes big projects easier to manage\n",
        "\n",
        "| Pillar | Meaning |\n",
        "|--------|---------|\n",
        "| Encapsulation | Hide data, expose safe methods |\n",
        "| Inheritance | Child class reuses parent class |\n",
        "| Polymorphism | Same method name, different behavior |\n",
        "| Abstraction | Hide complexity, show essentials |\n"
      ],
      "metadata": {
        "id": "Se3EZhmfUNov"
      }
    },
    {
      "cell_type": "markdown",
      "source": [
        "📝 Task:\n",
        "\n",
        "List 2 real-life examples where OOP applies"
      ],
      "metadata": {
        "id": "GldXl-jqUhx2"
      }
    },
    {
      "cell_type": "code",
      "source": [
        "# Eg: Library Management System → Classes: Book, Member, Librarian\n",
        "\n",
        "# A Banking System → Classes: Account, Customer, Transaction"
      ],
      "metadata": {
        "id": "o8MHCRGSUyNu"
      },
      "execution_count": null,
      "outputs": []
    },
    {
      "cell_type": "markdown",
      "source": [
        "# **📌 2️⃣ Classes & Objects**"
      ],
      "metadata": {
        "id": "9I-Sxt2xUn23"
      }
    },
    {
      "cell_type": "code",
      "source": [
        "class Dog:\n",
        "  pass"
      ],
      "metadata": {
        "id": "I46zB2GjcHkH"
      },
      "execution_count": null,
      "outputs": []
    },
    {
      "cell_type": "code",
      "source": [
        "my_dog = Dog()"
      ],
      "metadata": {
        "id": "fNr9Q3XCcNDg"
      },
      "execution_count": null,
      "outputs": []
    },
    {
      "cell_type": "code",
      "source": [
        "print(my_dog)"
      ],
      "metadata": {
        "colab": {
          "base_uri": "https://localhost:8080/"
        },
        "id": "XtWwuyKtcM9-",
        "outputId": "a1e2290d-6c8d-4471-fec6-da890f1ef362"
      },
      "execution_count": null,
      "outputs": [
        {
          "output_type": "stream",
          "name": "stdout",
          "text": [
            "<__main__.Dog object at 0x79593d0af050>\n"
          ]
        }
      ]
    },
    {
      "cell_type": "code",
      "source": [
        "# -----------------code in the notebook-------------------"
      ],
      "metadata": {
        "id": "NZi40nZVcBgj"
      },
      "execution_count": null,
      "outputs": []
    },
    {
      "cell_type": "code",
      "execution_count": null,
      "metadata": {
        "colab": {
          "base_uri": "https://localhost:8080/"
        },
        "id": "BQ23s5_vUGQg",
        "outputId": "b25c670b-2a0b-49ed-96a5-af50b88c8742"
      },
      "outputs": [
        {
          "output_type": "stream",
          "name": "stdout",
          "text": [
            "<__main__.Dog object at 0x7e6342753150>\n"
          ]
        }
      ],
      "source": [
        "# Define a simple Dog class\n",
        "class Dog:\n",
        "    pass\n",
        "\n",
        "# Create an object\n",
        "my_dog = Dog()\n",
        "print(my_dog)"
      ]
    },
    {
      "cell_type": "markdown",
      "source": [
        "📝 Task:\n",
        "\n",
        "Make a Cat class & object."
      ],
      "metadata": {
        "id": "IMPXE3xSUzX2"
      }
    },
    {
      "cell_type": "code",
      "source": [
        "class Cat:\n",
        "    def __init__(self, name):\n",
        "        self.name = name\n",
        "\n",
        "# Create an object\n",
        "my_cat = Cat(\"Kitty\")\n",
        "print(\"My cat's name is\", my_cat.name)"
      ],
      "metadata": {
        "id": "gTkFOb4FUsVI",
        "colab": {
          "base_uri": "https://localhost:8080/"
        },
        "outputId": "1cfbe992-9913-459c-efa2-77690426b2dc"
      },
      "execution_count": 2,
      "outputs": [
        {
          "output_type": "stream",
          "name": "stdout",
          "text": [
            "My cat's name is Kitty\n"
          ]
        }
      ]
    },
    {
      "cell_type": "markdown",
      "source": [
        "# **📌 3️⃣ Attributes & Methods**"
      ],
      "metadata": {
        "id": "wlbLSmGOU2Zm"
      }
    },
    {
      "cell_type": "code",
      "source": [
        "class Dog:\n",
        "  def __init__(self, name):\n",
        "    self.name = name\n",
        "  def bark(self):\n",
        "    print('Says Woof!', self.name)"
      ],
      "metadata": {
        "id": "Ie-p9eRAc7Tb"
      },
      "execution_count": null,
      "outputs": []
    },
    {
      "cell_type": "code",
      "source": [
        "my_dog = Dog('Bruno')"
      ],
      "metadata": {
        "id": "l9l98trvc7On"
      },
      "execution_count": null,
      "outputs": []
    },
    {
      "cell_type": "code",
      "source": [
        "my_dog.bark()"
      ],
      "metadata": {
        "colab": {
          "base_uri": "https://localhost:8080/"
        },
        "id": "CyaPTZSec7K7",
        "outputId": "37580ac5-ee78-436b-eaac-84749307e011"
      },
      "execution_count": null,
      "outputs": [
        {
          "output_type": "stream",
          "name": "stdout",
          "text": [
            "Says Woof! Bruno\n"
          ]
        }
      ]
    },
    {
      "cell_type": "code",
      "source": [
        "class Dog:\n",
        "  def bark(self,name):\n",
        "    self.name = name\n",
        "    print('Says Woof!', name)"
      ],
      "metadata": {
        "id": "1i85lCbsc7GN"
      },
      "execution_count": null,
      "outputs": []
    },
    {
      "cell_type": "code",
      "source": [
        "obj1 = Dog()"
      ],
      "metadata": {
        "id": "3o9tBNhYeSZ5"
      },
      "execution_count": null,
      "outputs": []
    },
    {
      "cell_type": "code",
      "source": [
        "obj1.bark('hello')"
      ],
      "metadata": {
        "colab": {
          "base_uri": "https://localhost:8080/"
        },
        "id": "3F3Ezwf0eVUg",
        "outputId": "abcf6000-faf7-4f13-9cd6-b185ca822583"
      },
      "execution_count": null,
      "outputs": [
        {
          "output_type": "stream",
          "name": "stdout",
          "text": [
            "Says Woof! hello\n"
          ]
        }
      ]
    },
    {
      "cell_type": "code",
      "source": [
        "# -----------------code in the notebook-------------------"
      ],
      "metadata": {
        "id": "zrkTq2Frc6yz"
      },
      "execution_count": null,
      "outputs": []
    },
    {
      "cell_type": "code",
      "source": [
        "# Add attributes & methods\n",
        "class Dog:\n",
        "    def __init__(self, name):\n",
        "        self.name = name\n",
        "\n",
        "    def bark(self):\n",
        "        print(f\"{self.name} says Woof!\")\n",
        "\n",
        "# Test it\n",
        "my_dog = Dog(\"Bruno\")\n",
        "my_dog.bark()"
      ],
      "metadata": {
        "colab": {
          "base_uri": "https://localhost:8080/"
        },
        "id": "8jwWoDkyU3kW",
        "outputId": "0cdebcb0-52b9-41c9-bd99-5fded079dff7"
      },
      "execution_count": null,
      "outputs": [
        {
          "output_type": "stream",
          "name": "stdout",
          "text": [
            "Bruno says Woof!\n"
          ]
        }
      ]
    },
    {
      "cell_type": "markdown",
      "source": [
        "📝 Task:\n",
        "\n",
        "Add an attribute age and a method sit()."
      ],
      "metadata": {
        "id": "ylE12OhZVDd2"
      }
    },
    {
      "cell_type": "code",
      "source": [
        "class Cat:\n",
        "    def __init__(self, name, color):\n",
        "        self.name = name\n",
        "        self.color = color\n",
        "\n",
        "    def meow(self):\n",
        "        print(f\"{self.name} says Meow!\")\n",
        "\n",
        "# Test it\n",
        "my_cat = Cat(\"Kitty\", \"White\")\n",
        "print(\"Name:\", my_cat.name, \"| Color:\", my_cat.color)\n",
        "my_cat.meow()"
      ],
      "metadata": {
        "id": "DJJjxZOOU4rg",
        "colab": {
          "base_uri": "https://localhost:8080/"
        },
        "outputId": "2e3cf2c2-9aaf-4d4c-9a06-bb8a8937048f"
      },
      "execution_count": 3,
      "outputs": [
        {
          "output_type": "stream",
          "name": "stdout",
          "text": [
            "Name: Kitty | Color: White\n",
            "Kitty says Meow!\n"
          ]
        }
      ]
    },
    {
      "cell_type": "markdown",
      "source": [
        "# **📌 4️⃣ __init__ Constructor**"
      ],
      "metadata": {
        "id": "Nw4ur2PlVTLW"
      }
    },
    {
      "cell_type": "code",
      "source": [
        "class Person:\n",
        "  def __init__(self, name, age):\n",
        "    self.name = name\n",
        "    self.age = age"
      ],
      "metadata": {
        "id": "n4EiHCPee88K"
      },
      "execution_count": null,
      "outputs": []
    },
    {
      "cell_type": "code",
      "source": [
        "P = Person('raja',25)"
      ],
      "metadata": {
        "id": "7q6DsrFle84u"
      },
      "execution_count": null,
      "outputs": []
    },
    {
      "cell_type": "code",
      "source": [
        "P.name"
      ],
      "metadata": {
        "colab": {
          "base_uri": "https://localhost:8080/",
          "height": 36
        },
        "id": "bnChcMb9fMbA",
        "outputId": "277bf767-1c8f-4f23-e0bf-4e6f28549a3d"
      },
      "execution_count": null,
      "outputs": [
        {
          "output_type": "execute_result",
          "data": {
            "text/plain": [
              "'raja'"
            ],
            "application/vnd.google.colaboratory.intrinsic+json": {
              "type": "string"
            }
          },
          "metadata": {},
          "execution_count": 24
        }
      ]
    },
    {
      "cell_type": "code",
      "source": [
        "P.age"
      ],
      "metadata": {
        "colab": {
          "base_uri": "https://localhost:8080/"
        },
        "id": "oW-gRgHmfMXi",
        "outputId": "57a6479e-149a-4457-a524-0de349a51c3a"
      },
      "execution_count": null,
      "outputs": [
        {
          "output_type": "execute_result",
          "data": {
            "text/plain": [
              "25"
            ]
          },
          "metadata": {},
          "execution_count": 25
        }
      ]
    },
    {
      "cell_type": "code",
      "source": [
        "# -----------------code in the notebook-------------------"
      ],
      "metadata": {
        "id": "CWnHwNabe5cJ"
      },
      "execution_count": null,
      "outputs": []
    },
    {
      "cell_type": "code",
      "source": [
        "class Person:\n",
        "    def __init__(self, name, age):\n",
        "        self.name = name\n",
        "        self.age = age\n",
        "\n",
        "p = Person(\"Alice\", 25)\n",
        "print(p.name, p.age)"
      ],
      "metadata": {
        "colab": {
          "base_uri": "https://localhost:8080/"
        },
        "id": "dPXBSHaJVUKV",
        "outputId": "1d51dff4-679b-4581-8fdc-527b2208ee33"
      },
      "execution_count": null,
      "outputs": [
        {
          "output_type": "stream",
          "name": "stdout",
          "text": [
            "Alice 25\n"
          ]
        }
      ]
    },
    {
      "cell_type": "markdown",
      "source": [
        "📝 Task:\n",
        "\n",
        "Create a Student class with name, roll_no."
      ],
      "metadata": {
        "id": "xPedhub0VYaO"
      }
    },
    {
      "cell_type": "code",
      "source": [
        "class Student:\n",
        "    def __init__(self, name, roll_number):\n",
        "        self.name = name\n",
        "        self.roll_number = roll_number\n",
        "\n",
        "# Object\n",
        "s1 = Student(\"Alice\", 101)\n",
        "print(f\"Student Name: {s1.name}, Roll Number: {s1.roll_number}\")"
      ],
      "metadata": {
        "id": "Bna8etyVcNcl",
        "colab": {
          "base_uri": "https://localhost:8080/"
        },
        "outputId": "42721272-c314-4493-a054-d94e67145bd6"
      },
      "execution_count": 4,
      "outputs": [
        {
          "output_type": "stream",
          "name": "stdout",
          "text": [
            "Student Name: Alice, Roll Number: 101\n"
          ]
        }
      ]
    },
    {
      "cell_type": "markdown",
      "source": [
        "# **📌 5️⃣ self keyword**"
      ],
      "metadata": {
        "id": "3A33GLUFVfDm"
      }
    },
    {
      "cell_type": "code",
      "source": [
        "class Calculator:\n",
        "  def add(self, x, y):\n",
        "    return x + y"
      ],
      "metadata": {
        "id": "-ejLgkGifXeN"
      },
      "execution_count": null,
      "outputs": []
    },
    {
      "cell_type": "code",
      "source": [
        "c = Calculator()"
      ],
      "metadata": {
        "id": "U2NwpTOJfWfn"
      },
      "execution_count": null,
      "outputs": []
    },
    {
      "cell_type": "code",
      "source": [
        "c.add(1,2)"
      ],
      "metadata": {
        "colab": {
          "base_uri": "https://localhost:8080/"
        },
        "id": "prFEAX7SfiQ5",
        "outputId": "e7d649f8-99bd-4935-deed-908f1641f006"
      },
      "execution_count": null,
      "outputs": [
        {
          "output_type": "execute_result",
          "data": {
            "text/plain": [
              "3"
            ]
          },
          "metadata": {},
          "execution_count": 29
        }
      ]
    },
    {
      "cell_type": "code",
      "source": [
        "# -----------------code in the notebook-------------------"
      ],
      "metadata": {
        "id": "uEANORFgfVL9"
      },
      "execution_count": null,
      "outputs": []
    },
    {
      "cell_type": "markdown",
      "source": [
        "**Explanation:** self points to the current object."
      ],
      "metadata": {
        "id": "yINBXjRHVlh2"
      }
    },
    {
      "cell_type": "code",
      "source": [
        "class Calculator:\n",
        "    def add(self, x, y):\n",
        "        return x + y\n",
        "\n",
        "calc = Calculator()\n",
        "print(calc.add(3, 4))"
      ],
      "metadata": {
        "colab": {
          "base_uri": "https://localhost:8080/"
        },
        "id": "m877aIBcVWDH",
        "outputId": "f4867272-a6ee-48ed-ae7a-50a66563245e"
      },
      "execution_count": null,
      "outputs": [
        {
          "output_type": "stream",
          "name": "stdout",
          "text": [
            "7\n"
          ]
        }
      ]
    },
    {
      "cell_type": "markdown",
      "source": [
        "📝 Task:\n",
        "\n",
        "Make a multiply method."
      ],
      "metadata": {
        "id": "TBlTqwj4Vrdl"
      }
    },
    {
      "cell_type": "code",
      "source": [
        "class Calculator:\n",
        "    def __init__(self, number):\n",
        "        self.number = number\n",
        "\n",
        "    def multiply(self, factor):\n",
        "        return self.number * factor\n",
        "\n",
        "# Test\n",
        "c1 = Calculator(5)\n",
        "print(\"5 × 3 =\", c1.multiply(3))\n",
        "\n",
        "c2 = Calculator(10)\n",
        "print(\"10 × 7 =\", c2.multiply(7))"
      ],
      "metadata": {
        "id": "P3SY7aZvcOtf",
        "colab": {
          "base_uri": "https://localhost:8080/"
        },
        "outputId": "b68bbbe3-ec88-40b7-ac09-10c03b7d501a"
      },
      "execution_count": 5,
      "outputs": [
        {
          "output_type": "stream",
          "name": "stdout",
          "text": [
            "5 × 3 = 15\n",
            "10 × 7 = 70\n"
          ]
        }
      ]
    },
    {
      "cell_type": "markdown",
      "source": [
        "# **📌 6️⃣ Inheritance**"
      ],
      "metadata": {
        "id": "nt2kPth4VuH1"
      }
    },
    {
      "cell_type": "code",
      "source": [
        "class Animal:\n",
        "  def eat(self):\n",
        "    print('Animal eats')\n",
        "class Dog:\n",
        "  def bark(self):\n",
        "    print('Dog barks')"
      ],
      "metadata": {
        "id": "j1RCv0gTtzea"
      },
      "execution_count": null,
      "outputs": []
    },
    {
      "cell_type": "code",
      "source": [
        "obj = Animal()"
      ],
      "metadata": {
        "id": "ziLnDCT7t0_8"
      },
      "execution_count": null,
      "outputs": []
    },
    {
      "cell_type": "code",
      "source": [
        "obj.eat()"
      ],
      "metadata": {
        "colab": {
          "base_uri": "https://localhost:8080/"
        },
        "id": "_mhstUjFt08U",
        "outputId": "5e7a4449-489d-493d-a3e6-8acd0742cd92"
      },
      "execution_count": null,
      "outputs": [
        {
          "output_type": "stream",
          "name": "stdout",
          "text": [
            "Animal eats\n"
          ]
        }
      ]
    },
    {
      "cell_type": "code",
      "source": [
        "obj1 = Dog()"
      ],
      "metadata": {
        "id": "WuKvikwtuMF4"
      },
      "execution_count": null,
      "outputs": []
    },
    {
      "cell_type": "code",
      "source": [
        "obj1.bark()"
      ],
      "metadata": {
        "colab": {
          "base_uri": "https://localhost:8080/"
        },
        "id": "ocosNL9vuMB-",
        "outputId": "838043c5-8362-451a-f0f2-73543128f194"
      },
      "execution_count": null,
      "outputs": [
        {
          "output_type": "stream",
          "name": "stdout",
          "text": [
            "Dog barks\n"
          ]
        }
      ]
    },
    {
      "cell_type": "code",
      "source": [
        "class Animal:\n",
        "  def eat(self):\n",
        "    print('Animal eats')"
      ],
      "metadata": {
        "id": "3yoUMM5muVAh"
      },
      "execution_count": null,
      "outputs": []
    },
    {
      "cell_type": "code",
      "source": [
        "class Dog(Animal):\n",
        "  def bark(self):\n",
        "    print('Dog barks')"
      ],
      "metadata": {
        "id": "Lx5dhrq9uo-z"
      },
      "execution_count": null,
      "outputs": []
    },
    {
      "cell_type": "code",
      "source": [
        "he_obj = Animal()"
      ],
      "metadata": {
        "id": "qLet7YSpuXqw"
      },
      "execution_count": null,
      "outputs": []
    },
    {
      "cell_type": "code",
      "source": [
        "he_obj.eat()"
      ],
      "metadata": {
        "colab": {
          "base_uri": "https://localhost:8080/"
        },
        "id": "XKz09m5ouXmt",
        "outputId": "100cd26c-4531-49cc-8416-cd885fdebc4f"
      },
      "execution_count": null,
      "outputs": [
        {
          "output_type": "stream",
          "name": "stdout",
          "text": [
            "Animal eats\n"
          ]
        }
      ]
    },
    {
      "cell_type": "code",
      "source": [
        "he_obj.bark()"
      ],
      "metadata": {
        "colab": {
          "base_uri": "https://localhost:8080/",
          "height": 141
        },
        "id": "jC0q8fwauXjH",
        "outputId": "82d4684c-c2b3-4da4-9dd4-3050873463af"
      },
      "execution_count": null,
      "outputs": [
        {
          "output_type": "error",
          "ename": "AttributeError",
          "evalue": "'Animal' object has no attribute 'bark'",
          "traceback": [
            "\u001b[0;31m---------------------------------------------------------------------------\u001b[0m",
            "\u001b[0;31mAttributeError\u001b[0m                            Traceback (most recent call last)",
            "\u001b[0;32m/tmp/ipython-input-2830909376.py\u001b[0m in \u001b[0;36m<cell line: 0>\u001b[0;34m()\u001b[0m\n\u001b[0;32m----> 1\u001b[0;31m \u001b[0mhe_obj\u001b[0m\u001b[0;34m.\u001b[0m\u001b[0mbark\u001b[0m\u001b[0;34m(\u001b[0m\u001b[0;34m)\u001b[0m\u001b[0;34m\u001b[0m\u001b[0;34m\u001b[0m\u001b[0m\n\u001b[0m",
            "\u001b[0;31mAttributeError\u001b[0m: 'Animal' object has no attribute 'bark'"
          ]
        }
      ]
    },
    {
      "cell_type": "code",
      "source": [
        "he_obj_1 = Dog()"
      ],
      "metadata": {
        "id": "DHLP424guwzm"
      },
      "execution_count": null,
      "outputs": []
    },
    {
      "cell_type": "code",
      "source": [
        "he_obj_1.bark()"
      ],
      "metadata": {
        "colab": {
          "base_uri": "https://localhost:8080/"
        },
        "id": "SatoT4V0uwwL",
        "outputId": "73b8eb1d-10c3-45fc-af56-dc5bf18f26c1"
      },
      "execution_count": null,
      "outputs": [
        {
          "output_type": "stream",
          "name": "stdout",
          "text": [
            "Dog barks\n"
          ]
        }
      ]
    },
    {
      "cell_type": "code",
      "source": [
        "he_obj_1.eat()"
      ],
      "metadata": {
        "colab": {
          "base_uri": "https://localhost:8080/"
        },
        "id": "MfV-B9mKuwsn",
        "outputId": "defdecc5-c041-48a7-9fa3-cf48c24fe559"
      },
      "execution_count": null,
      "outputs": [
        {
          "output_type": "stream",
          "name": "stdout",
          "text": [
            "Animal eats\n"
          ]
        }
      ]
    },
    {
      "cell_type": "code",
      "source": [
        "# -----------------code in the notebook-------------------"
      ],
      "metadata": {
        "id": "1YXPNvFUtzaR"
      },
      "execution_count": null,
      "outputs": []
    },
    {
      "cell_type": "code",
      "source": [
        "class Animal:\n",
        "    def eat(self):\n",
        "        print(\"Animal eats\")\n",
        "\n",
        "class Dog(Animal):\n",
        "    def bark(self):\n",
        "        print(\"Dog barks\")\n",
        "\n",
        "d = Dog()\n",
        "d.eat()\n",
        "d.bark()"
      ],
      "metadata": {
        "colab": {
          "base_uri": "https://localhost:8080/"
        },
        "id": "PGrkA6FzVgx2",
        "outputId": "764fcfaf-caf9-4abe-e9ba-027992431d58"
      },
      "execution_count": null,
      "outputs": [
        {
          "output_type": "stream",
          "name": "stdout",
          "text": [
            "Animal eats\n",
            "Dog barks\n"
          ]
        }
      ]
    },
    {
      "cell_type": "markdown",
      "source": [
        "📝 Task:\n",
        "\n",
        "Create Cat inheriting Animal with meow()."
      ],
      "metadata": {
        "id": "O5oef9dAV3bu"
      }
    },
    {
      "cell_type": "code",
      "source": [
        "class Animal:\n",
        "    def __init__(self, name):\n",
        "        self.name = name\n",
        "\n",
        "    def speak(self):\n",
        "        print(self.name, \"makes a sound\")\n",
        "\n",
        "class Cat(Animal):   # Cat inherits Animal\n",
        "    def speak(self):\n",
        "        print(self.name, \"says Meow!\")\n",
        "\n",
        "# Test\n",
        "a = Animal(\"Animal\")\n",
        "c = Cat(\"Kitty\")\n",
        "\n",
        "a.speak()\n",
        "c.speak()"
      ],
      "metadata": {
        "id": "w3Pdfqu3cQj-",
        "colab": {
          "base_uri": "https://localhost:8080/"
        },
        "outputId": "36f42a46-04ea-4649-d75a-d51504909e58"
      },
      "execution_count": 10,
      "outputs": [
        {
          "output_type": "stream",
          "name": "stdout",
          "text": [
            "Animal makes a sound\n",
            "Kitty says Meow!\n"
          ]
        }
      ]
    },
    {
      "cell_type": "markdown",
      "source": [
        "# **📌 7️⃣ Method Overriding**"
      ],
      "metadata": {
        "id": "Xs4iLH4_V8g9"
      }
    },
    {
      "cell_type": "code",
      "source": [
        "class Animal:\n",
        "    def speak(self):\n",
        "        print(\"Animal sound\")"
      ],
      "metadata": {
        "id": "_jsQX6ALvp3h"
      },
      "execution_count": null,
      "outputs": []
    },
    {
      "cell_type": "code",
      "source": [
        "obj_a = Animal()"
      ],
      "metadata": {
        "id": "e3itrSI9v3SE"
      },
      "execution_count": null,
      "outputs": []
    },
    {
      "cell_type": "code",
      "source": [
        "obj_a.speak()"
      ],
      "metadata": {
        "colab": {
          "base_uri": "https://localhost:8080/"
        },
        "id": "7FDdg3qlv81A",
        "outputId": "bf7e6701-a4d7-4d78-f952-7d7a5416e19f"
      },
      "execution_count": null,
      "outputs": [
        {
          "output_type": "stream",
          "name": "stdout",
          "text": [
            "Animal sound\n"
          ]
        }
      ]
    },
    {
      "cell_type": "code",
      "source": [
        "class Dog():\n",
        "    def speak(self):\n",
        "        print(\"Woof!\")"
      ],
      "metadata": {
        "id": "WjX58rjcvpu0"
      },
      "execution_count": null,
      "outputs": []
    },
    {
      "cell_type": "code",
      "source": [
        "obj_d = Dog()"
      ],
      "metadata": {
        "id": "-J9i3qu3v2qu"
      },
      "execution_count": null,
      "outputs": []
    },
    {
      "cell_type": "code",
      "source": [
        "obj_d.speak()"
      ],
      "metadata": {
        "colab": {
          "base_uri": "https://localhost:8080/"
        },
        "id": "CWj4niBSv2mx",
        "outputId": "2ae5e1a3-df0d-41be-e3e3-92ffff6625e4"
      },
      "execution_count": null,
      "outputs": [
        {
          "output_type": "stream",
          "name": "stdout",
          "text": [
            "Woof!\n"
          ]
        }
      ]
    },
    {
      "cell_type": "code",
      "source": [
        "class Animal:\n",
        "    def speak(self):\n",
        "        print(\"Animal sound\")"
      ],
      "metadata": {
        "id": "BtxNGLVfwDiJ"
      },
      "execution_count": null,
      "outputs": []
    },
    {
      "cell_type": "code",
      "source": [
        "class Dog(Animal):\n",
        "    def speak(self):\n",
        "        print(\"Woof!\")"
      ],
      "metadata": {
        "id": "VeTyugtSwDe_"
      },
      "execution_count": null,
      "outputs": []
    },
    {
      "cell_type": "code",
      "source": [
        "obj_dog = Dog()"
      ],
      "metadata": {
        "id": "hSjq27R5wDbT"
      },
      "execution_count": null,
      "outputs": []
    },
    {
      "cell_type": "code",
      "source": [
        "obj_dog.speak()"
      ],
      "metadata": {
        "colab": {
          "base_uri": "https://localhost:8080/"
        },
        "id": "5G-dRaNLv2jd",
        "outputId": "366df2bf-122a-4542-9ace-ffbc01788fd5"
      },
      "execution_count": null,
      "outputs": [
        {
          "output_type": "stream",
          "name": "stdout",
          "text": [
            "Woof!\n"
          ]
        }
      ]
    },
    {
      "cell_type": "code",
      "source": [
        "# -----------------code in the notebook-------------------"
      ],
      "metadata": {
        "id": "e7MRIqwmvotI"
      },
      "execution_count": null,
      "outputs": []
    },
    {
      "cell_type": "code",
      "source": [
        "class Animal:\n",
        "    def speak(self):\n",
        "        print(\"Animal sound\")\n",
        "\n",
        "class Dog(Animal):\n",
        "    def speak(self):\n",
        "        print(\"Woof!\")\n",
        "\n",
        "d = Dog()\n",
        "d.speak()"
      ],
      "metadata": {
        "colab": {
          "base_uri": "https://localhost:8080/"
        },
        "id": "OfHjqguHV1cn",
        "outputId": "7919fd80-6006-404c-810a-2ded6f834e49"
      },
      "execution_count": null,
      "outputs": [
        {
          "output_type": "stream",
          "name": "stdout",
          "text": [
            "Woof!\n"
          ]
        }
      ]
    },
    {
      "cell_type": "markdown",
      "source": [
        "📝 Task:\n",
        "\n",
        "Override speak() in Cat."
      ],
      "metadata": {
        "id": "5WhbGFhwWHhl"
      }
    },
    {
      "cell_type": "code",
      "source": [
        "class Animal:\n",
        "    def __init__(self, name):\n",
        "        self.name = name\n",
        "\n",
        "    def speak(self):\n",
        "        print(self.name, \"makes a sound\")\n",
        "\n",
        "class Cat(Animal):\n",
        "    # overriding the speak() method\n",
        "    def speak(self):\n",
        "        print(self.name, \"says Meow!\")\n",
        "\n",
        "# Test\n",
        "a = Animal(\"Animal\")\n",
        "c = Cat(\"Kitty\")\n",
        "\n",
        "a.speak()   # uses Animal's speak()\n",
        "c.speak()   # uses Cat's overridden speak()\n"
      ],
      "metadata": {
        "colab": {
          "base_uri": "https://localhost:8080/"
        },
        "id": "-Zpputozoo_K",
        "outputId": "da1b172a-87a0-48a9-d1b5-8d3a653e7153"
      },
      "execution_count": 13,
      "outputs": [
        {
          "output_type": "stream",
          "name": "stdout",
          "text": [
            "Animal makes a sound\n",
            "Kitty says Meow!\n"
          ]
        }
      ]
    },
    {
      "cell_type": "markdown",
      "source": [
        "# **📌 8️⃣ super() keyword**"
      ],
      "metadata": {
        "id": "CneBmcwtWMO9"
      }
    },
    {
      "cell_type": "code",
      "source": [
        "class Animal():\n",
        "  def __init__(self):\n",
        "     print('Animal')\n",
        "  def new(self):\n",
        "     print('new')"
      ],
      "metadata": {
        "id": "KK5Y7VKcxOxq"
      },
      "execution_count": null,
      "outputs": []
    },
    {
      "cell_type": "code",
      "source": [
        "ob = Animal()"
      ],
      "metadata": {
        "colab": {
          "base_uri": "https://localhost:8080/"
        },
        "id": "8WtW-nuoxOo-",
        "outputId": "265cd418-8ce7-4b18-b2bf-d1be847beb35"
      },
      "execution_count": null,
      "outputs": [
        {
          "output_type": "stream",
          "name": "stdout",
          "text": [
            "Animal\n"
          ]
        }
      ]
    },
    {
      "cell_type": "code",
      "source": [
        "class Dog(Animal):\n",
        "  def __init__(self):\n",
        "    super().__init__()\n",
        "    print('dog')"
      ],
      "metadata": {
        "id": "GlkuztRx0y_5"
      },
      "execution_count": null,
      "outputs": []
    },
    {
      "cell_type": "code",
      "source": [
        "do = Dog()"
      ],
      "metadata": {
        "colab": {
          "base_uri": "https://localhost:8080/"
        },
        "id": "fdO3QOO91Db1",
        "outputId": "1d008152-002d-4a5b-b3f6-276636516efa"
      },
      "execution_count": null,
      "outputs": [
        {
          "output_type": "stream",
          "name": "stdout",
          "text": [
            "Animal\n",
            "dog\n"
          ]
        }
      ]
    },
    {
      "cell_type": "code",
      "source": [
        "# -----------------code in the notebook-------------------"
      ],
      "metadata": {
        "id": "VKEAia7FxOkP"
      },
      "execution_count": null,
      "outputs": []
    },
    {
      "cell_type": "code",
      "source": [
        "class Animal:\n",
        "    def __init__(self):\n",
        "        print(\"Animal created\")\n",
        "\n",
        "class Dog(Animal):\n",
        "    def __init__(self):\n",
        "        super().__init__() # first calls the parent class (Animal) constructor using super()\n",
        "        print(\"Dog created\")\n",
        "\n",
        "d = Dog()"
      ],
      "metadata": {
        "colab": {
          "base_uri": "https://localhost:8080/"
        },
        "id": "42BuhMvTWNQO",
        "outputId": "f2d2f888-cdec-4eb4-f389-e413d6d89298"
      },
      "execution_count": null,
      "outputs": [
        {
          "output_type": "stream",
          "name": "stdout",
          "text": [
            "Animal created\n",
            "Dog created\n"
          ]
        }
      ]
    },
    {
      "cell_type": "markdown",
      "source": [
        "📝 Task:\n",
        "\n",
        "Add a custom init to Cat calling super()."
      ],
      "metadata": {
        "id": "c3akCqP9Wrql"
      }
    },
    {
      "cell_type": "code",
      "source": [
        "class Animal:\n",
        "    def __init__(self, name):\n",
        "        self.name = name\n",
        "\n",
        "    def speak(self):\n",
        "        print(self.name, \"makes a sound\")\n",
        "\n",
        "class Cat(Animal):\n",
        "    def __init__(self, name, color):\n",
        "        # call parent constructor\n",
        "        super().__init__(name)\n",
        "        self.color = color\n",
        "\n",
        "    def speak(self):\n",
        "        print(f\"{self.name} ({self.color}) says Meow!\")\n",
        "\n",
        "# Test\n",
        "c = Cat(\"Kitty\", \"White\")\n",
        "c.speak()"
      ],
      "metadata": {
        "id": "LA12KOv-WSQU",
        "colab": {
          "base_uri": "https://localhost:8080/"
        },
        "outputId": "56d997b8-cd80-45cf-cb0d-d51eee705f45"
      },
      "execution_count": 14,
      "outputs": [
        {
          "output_type": "stream",
          "name": "stdout",
          "text": [
            "Kitty (White) says Meow!\n"
          ]
        }
      ]
    },
    {
      "cell_type": "markdown",
      "source": [
        "# **📌 9️⃣ Encapsulation**"
      ],
      "metadata": {
        "id": "rvQszKlUWuql"
      }
    },
    {
      "cell_type": "code",
      "source": [
        "class BankAccount:\n",
        "  def __init__(self, balance):\n",
        "     self.balance = balance\n",
        "  def deposit(self, amount):\n",
        "     self.balance += amount\n",
        "  def get_balance(self):\n",
        "    return self.balance"
      ],
      "metadata": {
        "id": "PvMsRY7223Mq"
      },
      "execution_count": null,
      "outputs": []
    },
    {
      "cell_type": "code",
      "source": [
        "ba = BankAccount(500)"
      ],
      "metadata": {
        "id": "RalldhCO2jvD"
      },
      "execution_count": null,
      "outputs": []
    },
    {
      "cell_type": "code",
      "source": [
        "ba.deposit(1000)"
      ],
      "metadata": {
        "id": "ynr3EZbo2jsL"
      },
      "execution_count": null,
      "outputs": []
    },
    {
      "cell_type": "code",
      "source": [
        "ba.get_balance()"
      ],
      "metadata": {
        "colab": {
          "base_uri": "https://localhost:8080/"
        },
        "id": "zBgXe9sv31K5",
        "outputId": "db466063-f57d-41aa-c0d8-98d56b7e12bd"
      },
      "execution_count": null,
      "outputs": [
        {
          "output_type": "execute_result",
          "data": {
            "text/plain": [
              "1500"
            ]
          },
          "metadata": {},
          "execution_count": 78
        }
      ]
    },
    {
      "cell_type": "code",
      "source": [
        "ba.balance"
      ],
      "metadata": {
        "colab": {
          "base_uri": "https://localhost:8080/"
        },
        "id": "oLPzwRUZ4lIR",
        "outputId": "7fad6bfa-87e9-4f4b-e745-aeebcd52b8af"
      },
      "execution_count": null,
      "outputs": [
        {
          "output_type": "execute_result",
          "data": {
            "text/plain": [
              "1500"
            ]
          },
          "metadata": {},
          "execution_count": 79
        }
      ]
    },
    {
      "cell_type": "code",
      "source": [
        "# __ (Private)"
      ],
      "metadata": {
        "id": "9uGHe49H4Drf"
      },
      "execution_count": null,
      "outputs": []
    },
    {
      "cell_type": "code",
      "source": [
        "class BankAccount:\n",
        "  def __init__(self, balance):\n",
        "     self.__balance = balance\n",
        "  def deposit(self, amount):\n",
        "     self.__balance += amount\n",
        "  def get_balance(self):\n",
        "    return self.__balance"
      ],
      "metadata": {
        "id": "VUHubBLN38Y8"
      },
      "execution_count": null,
      "outputs": []
    },
    {
      "cell_type": "code",
      "source": [
        "ba = BankAccount(500)"
      ],
      "metadata": {
        "id": "6o_5TkG838Rm"
      },
      "execution_count": null,
      "outputs": []
    },
    {
      "cell_type": "code",
      "source": [
        "ba.deposit(1000)"
      ],
      "metadata": {
        "id": "eOKz6v5438NB"
      },
      "execution_count": null,
      "outputs": []
    },
    {
      "cell_type": "code",
      "source": [
        "ba.get_balance()"
      ],
      "metadata": {
        "colab": {
          "base_uri": "https://localhost:8080/"
        },
        "id": "wRNpbhsV4VBp",
        "outputId": "474a753b-eaec-4367-dc92-9c070150a5af"
      },
      "execution_count": null,
      "outputs": [
        {
          "output_type": "execute_result",
          "data": {
            "text/plain": [
              "1500"
            ]
          },
          "metadata": {},
          "execution_count": 85
        }
      ]
    },
    {
      "cell_type": "code",
      "source": [
        "ba.__balance"
      ],
      "metadata": {
        "colab": {
          "base_uri": "https://localhost:8080/",
          "height": 141
        },
        "id": "EajsjXet4xA3",
        "outputId": "6cf056fa-5bc4-4e60-ff51-349d4596d62b"
      },
      "execution_count": null,
      "outputs": [
        {
          "output_type": "error",
          "ename": "AttributeError",
          "evalue": "'BankAccount' object has no attribute '__balance'",
          "traceback": [
            "\u001b[0;31m---------------------------------------------------------------------------\u001b[0m",
            "\u001b[0;31mAttributeError\u001b[0m                            Traceback (most recent call last)",
            "\u001b[0;32m/tmp/ipython-input-171162874.py\u001b[0m in \u001b[0;36m<cell line: 0>\u001b[0;34m()\u001b[0m\n\u001b[0;32m----> 1\u001b[0;31m \u001b[0mba\u001b[0m\u001b[0;34m.\u001b[0m\u001b[0m__balance\u001b[0m\u001b[0;34m\u001b[0m\u001b[0;34m\u001b[0m\u001b[0m\n\u001b[0m",
            "\u001b[0;31mAttributeError\u001b[0m: 'BankAccount' object has no attribute '__balance'"
          ]
        }
      ]
    },
    {
      "cell_type": "code",
      "source": [
        "# -----------------code in the notebook-------------------"
      ],
      "metadata": {
        "id": "9RKiCMRa2jo1"
      },
      "execution_count": null,
      "outputs": []
    },
    {
      "cell_type": "code",
      "source": [
        "class BankAccount:\n",
        "    def __init__(self, balance):\n",
        "        self.__balance = balance  # Private (__)\n",
        "\n",
        "    def deposit(self, amount):\n",
        "        self.__balance += amount\n",
        "\n",
        "    def get_balance(self):\n",
        "        return self.__balance\n",
        "\n",
        "acc = BankAccount(1000)\n",
        "acc.deposit(500)\n",
        "print(acc.get_balance())"
      ],
      "metadata": {
        "colab": {
          "base_uri": "https://localhost:8080/"
        },
        "id": "7y3l9SABWvX_",
        "outputId": "f6ad2b1a-d372-4545-f739-6257e97b5222"
      },
      "execution_count": null,
      "outputs": [
        {
          "output_type": "stream",
          "name": "stdout",
          "text": [
            "1500\n"
          ]
        }
      ]
    },
    {
      "cell_type": "code",
      "source": [
        "acc.__balance"
      ],
      "metadata": {
        "colab": {
          "base_uri": "https://localhost:8080/",
          "height": 141
        },
        "id": "NhSNqoAfW1SA",
        "outputId": "e01efa61-7dd7-44c1-dd96-6a6fb5ef9142"
      },
      "execution_count": null,
      "outputs": [
        {
          "output_type": "error",
          "ename": "AttributeError",
          "evalue": "'BankAccount' object has no attribute '__balance'",
          "traceback": [
            "\u001b[0;31m---------------------------------------------------------------------------\u001b[0m",
            "\u001b[0;31mAttributeError\u001b[0m                            Traceback (most recent call last)",
            "\u001b[0;32m<ipython-input-11-2638773036>\u001b[0m in \u001b[0;36m<cell line: 0>\u001b[0;34m()\u001b[0m\n\u001b[0;32m----> 1\u001b[0;31m \u001b[0macc\u001b[0m\u001b[0;34m.\u001b[0m\u001b[0m__balance\u001b[0m\u001b[0;34m\u001b[0m\u001b[0;34m\u001b[0m\u001b[0m\n\u001b[0m",
            "\u001b[0;31mAttributeError\u001b[0m: 'BankAccount' object has no attribute '__balance'"
          ]
        }
      ]
    },
    {
      "cell_type": "markdown",
      "source": [
        "**✅ What this code does:**\n",
        "\n",
        "- It creates a BankAccount class that hides the balance inside it (makes it private).\n",
        "\n",
        "- You can add money using the deposit method.\n",
        "\n",
        "- You can check the balance using get_balance.\n",
        "\n",
        "- But you cannot directly see or change the balance from outside — it’s protected.\n",
        "\n",
        "**✅ Simple idea:**\n",
        "\n",
        "- Encapsulation means keeping important data safe inside a box (the class) and only allowing controlled ways to use or change it (methods).\n",
        "\n",
        "**So here:**\n",
        "- __balance is hidden.\n",
        "\n",
        "- deposit() and get_balance() are the safe ways to work with it."
      ],
      "metadata": {
        "id": "98RWzitBXLtW"
      }
    },
    {
      "cell_type": "markdown",
      "source": [
        "# **📌 🔟 Polymorphism**"
      ],
      "metadata": {
        "id": "9N-EPZqtXvXl"
      }
    },
    {
      "cell_type": "code",
      "source": [
        "class cat:\n",
        "  def speak(self):\n",
        "    print('Meow')\n",
        "\n",
        "class dog:\n",
        "  def speak(self):\n",
        "    print('Woof')"
      ],
      "metadata": {
        "id": "MkC8-xMC6TpB"
      },
      "execution_count": null,
      "outputs": []
    },
    {
      "cell_type": "code",
      "source": [
        "animals = [cat(), dog()]"
      ],
      "metadata": {
        "id": "fTAq1lni6TlL"
      },
      "execution_count": null,
      "outputs": []
    },
    {
      "cell_type": "code",
      "source": [
        "for animal in animals:\n",
        "  animal.speak()"
      ],
      "metadata": {
        "colab": {
          "base_uri": "https://localhost:8080/"
        },
        "id": "Z2nMK0u86kYq",
        "outputId": "aa75d232-8403-4e63-ce53-258f9b6a9ea2"
      },
      "execution_count": null,
      "outputs": [
        {
          "output_type": "stream",
          "name": "stdout",
          "text": [
            "Meow\n",
            "Woof\n"
          ]
        }
      ]
    },
    {
      "cell_type": "code",
      "source": [
        "# -----------------code in the notebook-------------------"
      ],
      "metadata": {
        "id": "4Ul4mURx6Tgp"
      },
      "execution_count": null,
      "outputs": []
    },
    {
      "cell_type": "code",
      "source": [
        "class Cat:\n",
        "    def speak(self):\n",
        "        print(\"Meow\")\n",
        "\n",
        "class Dog:\n",
        "    def speak(self):\n",
        "        print(\"Woof\")\n",
        "\n",
        "animals = [Cat(), Dog()]\n",
        "for animal in animals:\n",
        "    animal.speak()"
      ],
      "metadata": {
        "colab": {
          "base_uri": "https://localhost:8080/"
        },
        "id": "hHU4B7XmW8uO",
        "outputId": "f605ed6f-8bf4-4bf4-8fb4-798c496b529d"
      },
      "execution_count": null,
      "outputs": [
        {
          "output_type": "stream",
          "name": "stdout",
          "text": [
            "Meow\n",
            "Woof\n"
          ]
        }
      ]
    },
    {
      "cell_type": "markdown",
      "source": [
        "👉 Polymorphism works here because of different objects.\n",
        "\n",
        "- You have different classes (Cat and Dog)\n",
        "\n",
        "- Each class has its own version of the speak() method\n",
        "\n",
        "- When you create different objects (Cat() and Dog()), each object knows which speak() it should run\n",
        "\n",
        "- So, the same method name does different things for different objects"
      ],
      "metadata": {
        "id": "vTBeFwgFYpzl"
      }
    },
    {
      "cell_type": "markdown",
      "source": [
        "📝 Task:\n",
        "\n",
        "Add Cow with speak() → \"Moo\"."
      ],
      "metadata": {
        "id": "CbU6h5waX90s"
      }
    },
    {
      "cell_type": "code",
      "source": [
        "class Dog:\n",
        "    def speak(self):\n",
        "        print(\"Dog says Woof!\")\n",
        "\n",
        "class Cat:\n",
        "    def speak(self):\n",
        "        print(\"Cat says Meow!\")\n",
        "\n",
        "class Cow:\n",
        "    def speak(self):\n",
        "        print(\"Cow says Moo!\")\n",
        "\n",
        "# Polymorphism in action\n",
        "animals = [Dog(), Cat(), Cow()]\n",
        "\n",
        "for animal in animals:\n",
        "    animal.speak()"
      ],
      "metadata": {
        "id": "5pC9EbCYYK3l",
        "colab": {
          "base_uri": "https://localhost:8080/"
        },
        "outputId": "ed532a10-6df4-4454-f4f8-a1a3b20c4922"
      },
      "execution_count": 15,
      "outputs": [
        {
          "output_type": "stream",
          "name": "stdout",
          "text": [
            "Dog says Woof!\n",
            "Cat says Meow!\n",
            "Cow says Moo!\n"
          ]
        }
      ]
    },
    {
      "cell_type": "markdown",
      "source": [
        "# **📌 1️⃣1️⃣ Abstraction**"
      ],
      "metadata": {
        "id": "xQPcA_TUYJxl"
      }
    },
    {
      "cell_type": "code",
      "source": [
        "from abc import ABC, abstractmethod"
      ],
      "metadata": {
        "id": "1jsrYkcS-kQB"
      },
      "execution_count": null,
      "outputs": []
    },
    {
      "cell_type": "code",
      "source": [
        "# Normal Class and Function"
      ],
      "metadata": {
        "id": "A2EilTP1_Pd5"
      },
      "execution_count": null,
      "outputs": []
    },
    {
      "cell_type": "code",
      "source": [
        "class Animal():\n",
        "  def make_sound(self):\n",
        "    print('Animal')"
      ],
      "metadata": {
        "id": "T0CAZW0Z-kMZ"
      },
      "execution_count": null,
      "outputs": []
    },
    {
      "cell_type": "code",
      "source": [
        "h = Animal()"
      ],
      "metadata": {
        "id": "XPXY0qM4-kIL"
      },
      "execution_count": null,
      "outputs": []
    },
    {
      "cell_type": "code",
      "source": [
        "h.make_sound()"
      ],
      "metadata": {
        "colab": {
          "base_uri": "https://localhost:8080/"
        },
        "id": "OCnon5lE-30e",
        "outputId": "d27cc970-a145-4d22-ad63-3febf790a62a"
      },
      "execution_count": null,
      "outputs": [
        {
          "output_type": "stream",
          "name": "stdout",
          "text": [
            "Animal\n"
          ]
        }
      ]
    },
    {
      "cell_type": "code",
      "source": [
        "# Abstraction"
      ],
      "metadata": {
        "id": "lF0Xpqte_Uw9"
      },
      "execution_count": null,
      "outputs": []
    },
    {
      "cell_type": "code",
      "source": [
        "class Animal(ABC):\n",
        "  @abstractmethod\n",
        "  def make_sound(self):\n",
        "    pass"
      ],
      "metadata": {
        "id": "2c-8ghb6_Xf9"
      },
      "execution_count": null,
      "outputs": []
    },
    {
      "cell_type": "code",
      "source": [
        "k = Animal()"
      ],
      "metadata": {
        "colab": {
          "base_uri": "https://localhost:8080/",
          "height": 141
        },
        "id": "4vA2qUV8-3uf",
        "outputId": "7214b76e-a263-47e8-fd62-6cff5a2e7929"
      },
      "execution_count": null,
      "outputs": [
        {
          "output_type": "error",
          "ename": "TypeError",
          "evalue": "Can't instantiate abstract class Animal without an implementation for abstract method 'make_sound'",
          "traceback": [
            "\u001b[0;31m---------------------------------------------------------------------------\u001b[0m",
            "\u001b[0;31mTypeError\u001b[0m                                 Traceback (most recent call last)",
            "\u001b[0;32m/tmp/ipython-input-3520221561.py\u001b[0m in \u001b[0;36m<cell line: 0>\u001b[0;34m()\u001b[0m\n\u001b[0;32m----> 1\u001b[0;31m \u001b[0mk\u001b[0m \u001b[0;34m=\u001b[0m \u001b[0mAnimal\u001b[0m\u001b[0;34m(\u001b[0m\u001b[0;34m)\u001b[0m\u001b[0;34m\u001b[0m\u001b[0;34m\u001b[0m\u001b[0m\n\u001b[0m",
            "\u001b[0;31mTypeError\u001b[0m: Can't instantiate abstract class Animal without an implementation for abstract method 'make_sound'"
          ]
        }
      ]
    },
    {
      "cell_type": "code",
      "source": [
        "class Animal(ABC):\n",
        "  @abstractmethod\n",
        "  def make_sound(self):\n",
        "    pass\n",
        "\n",
        "class Dog(Animal):\n",
        "  def make_sound(self):\n",
        "    print('woof')"
      ],
      "metadata": {
        "id": "hllDm4fX_p2V"
      },
      "execution_count": null,
      "outputs": []
    },
    {
      "cell_type": "code",
      "source": [
        "l = Animal()"
      ],
      "metadata": {
        "colab": {
          "base_uri": "https://localhost:8080/",
          "height": 141
        },
        "id": "l8EkUyqO__-B",
        "outputId": "1793efc8-7058-4821-e43d-d447cba2545d"
      },
      "execution_count": null,
      "outputs": [
        {
          "output_type": "error",
          "ename": "TypeError",
          "evalue": "Can't instantiate abstract class Animal without an implementation for abstract method 'make_sound'",
          "traceback": [
            "\u001b[0;31m---------------------------------------------------------------------------\u001b[0m",
            "\u001b[0;31mTypeError\u001b[0m                                 Traceback (most recent call last)",
            "\u001b[0;32m/tmp/ipython-input-5721433.py\u001b[0m in \u001b[0;36m<cell line: 0>\u001b[0;34m()\u001b[0m\n\u001b[0;32m----> 1\u001b[0;31m \u001b[0ml\u001b[0m \u001b[0;34m=\u001b[0m \u001b[0mAnimal\u001b[0m\u001b[0;34m(\u001b[0m\u001b[0;34m)\u001b[0m\u001b[0;34m\u001b[0m\u001b[0;34m\u001b[0m\u001b[0m\n\u001b[0m",
            "\u001b[0;31mTypeError\u001b[0m: Can't instantiate abstract class Animal without an implementation for abstract method 'make_sound'"
          ]
        }
      ]
    },
    {
      "cell_type": "code",
      "source": [
        "m = Dog()"
      ],
      "metadata": {
        "id": "PsUQdU7e__6G"
      },
      "execution_count": null,
      "outputs": []
    },
    {
      "cell_type": "code",
      "source": [
        "m.make_sound()"
      ],
      "metadata": {
        "colab": {
          "base_uri": "https://localhost:8080/"
        },
        "id": "hpWmFLoy_yzU",
        "outputId": "b805eb46-5021-4c0d-da7d-f90f3f78e1ce"
      },
      "execution_count": null,
      "outputs": [
        {
          "output_type": "stream",
          "name": "stdout",
          "text": [
            "woof\n"
          ]
        }
      ]
    },
    {
      "cell_type": "code",
      "source": [
        "# -----------------code in the notebook-------------------"
      ],
      "metadata": {
        "id": "k4V_4_rm-jne"
      },
      "execution_count": null,
      "outputs": []
    },
    {
      "cell_type": "code",
      "source": [
        "from abc import ABC, abstractmethod\n",
        "\n",
        "class Animal(ABC):      # 1️⃣ This is an *abstract class*\n",
        "    @abstractmethod     # 2️⃣ This is an *abstract method*\n",
        "    def make_sound(self):\n",
        "        pass\n",
        "\n",
        "class Dog(Animal):      # 3️⃣ Dog *inherits* Animal\n",
        "    def make_sound(self):\n",
        "        print(\"Woof!\")\n",
        "\n",
        "d = Dog()               # 4️⃣ Create a Dog object\n",
        "d.make_sound()          # 5️⃣ Call Dog’s version of make_sound()"
      ],
      "metadata": {
        "colab": {
          "base_uri": "https://localhost:8080/"
        },
        "id": "GtZh_ubCX1Xv",
        "outputId": "39923ca8-b627-461e-d6e4-3195aea0e3b1"
      },
      "execution_count": null,
      "outputs": [
        {
          "output_type": "stream",
          "name": "stdout",
          "text": [
            "Woof!\n"
          ]
        }
      ]
    },
    {
      "cell_type": "markdown",
      "source": [
        "**🔑 Explanation**\n",
        "\n",
        "1️⃣ Animal(ABC)\n",
        "\n",
        "Here, Animal is an abstract class — it’s like a template for animals.\n",
        "\n",
        "ABC means Abstract Base Class — it can’t be used to create an object directly.\n",
        "\n",
        "2️⃣ @abstractmethod\n",
        "\n",
        "make_sound() is an abstract method — it has no code in Animal, just a rule:\n",
        "\n",
        "“Any animal must have its own make_sound method.”\n",
        "\n",
        "3️⃣ Dog\n",
        "\n",
        "Dog inherits Animal and provides a real version of make_sound() — it prints “Woof!”\n",
        "\n",
        "4️⃣ d = Dog()\n",
        "\n",
        "You can’t create an Animal directly (it’s too abstract)\n",
        "\n",
        "But you can create a Dog because Dog fills in the missing details.\n",
        "\n",
        "5️⃣ d.make_sound()\n",
        "\n",
        "Runs Dog’s version: prints “Woof!”\n",
        "\n",
        "**✅ Why is this Abstraction?**\n",
        "\n",
        "You define a general idea (“Animals can make sounds”)\n",
        "\n",
        "You hide HOW each animal does it\n",
        "\n",
        "Each animal class must provide its own real version\n",
        "\n",
        "**⚡️ In simple words:**\n",
        "\n",
        "Abstraction means making a rule and forcing all specific objects to follow it, while hiding unnecessary details.\n"
      ],
      "metadata": {
        "id": "QPIif9yXZbsF"
      }
    },
    {
      "cell_type": "markdown",
      "source": [
        "📝 Task:\n",
        "\n",
        "Make Cat abstract class child with make_sound()."
      ],
      "metadata": {
        "id": "zNV_BsVzbbJ9"
      }
    },
    {
      "cell_type": "code",
      "source": [
        "from abc import ABC, abstractmethod\n",
        "\n",
        "# Abstract class\n",
        "class Animal(ABC):\n",
        "    def __init__(self, name):\n",
        "        self.name = name\n",
        "\n",
        "    @abstractmethod\n",
        "    def make_sound(self):\n",
        "        pass\n",
        "\n",
        "# Child class\n",
        "class Cat(Animal):\n",
        "    def make_sound(self):\n",
        "        print(f\"{self.name} says Meow!\")\n",
        "\n",
        "# Test\n",
        "c = Cat(\"Kitty\")\n",
        "c.make_sound()"
      ],
      "metadata": {
        "id": "Tl9uV2BjYOb2",
        "colab": {
          "base_uri": "https://localhost:8080/"
        },
        "outputId": "ad9f1763-d953-4606-e7ec-153db57b60ba"
      },
      "execution_count": 16,
      "outputs": [
        {
          "output_type": "stream",
          "name": "stdout",
          "text": [
            "Kitty says Meow!\n"
          ]
        }
      ]
    },
    {
      "cell_type": "markdown",
      "source": [
        "# **1️⃣2️⃣ Practice**\n",
        "\n",
        "📌 Task:\n",
        "Create a mini project using daily-life items like Pen, Bag, or Bottle.\n",
        "\n",
        "**You must use all basic OOP concepts:**\n",
        "\n",
        "- Classes & Objects: Create at least 2–3 classes for your items.\n",
        "\n",
        "- Attributes & Methods: Add some properties (color, size, brand) and methods (write, show, drink).\n",
        "\n",
        "- Constructor (__init__): Use it to set values.\n",
        "\n",
        "- Inheritance: Make a base class Item and make your items inherit from it.\n",
        "\n",
        "- Abstraction: Make the Item class an abstract class by importing ABC and abstractmethod from abc.\n",
        "\n",
        "- Method Overriding: Override a method from Item in the child classes.\n",
        "\n",
        "- Encapsulation: Make at least one attribute private and show it using a method.\n",
        "\n",
        "- Polymorphism: Create a list of different items and call the same method to see different results.\n",
        "\n",
        "➡️ Goal: Show that you understand class, object, inheritance, abstraction, encapsulation, overriding, and polymorphism using a simple real-world example.\n",
        "\n",
        "✅ Example Idea:\n",
        "\n",
        "- Item (base class)\n",
        "\n",
        "- Pen(Item), Bag(Item), Bottle(Item) (child classes)\n",
        "\n",
        "- Each child has its own method and overrides show()\n",
        "\n",
        "- Use a private attribute for bag capacity\n",
        "\n",
        "- Make a list of items and call show() on each to demonstrate polymorphism\n",
        "\n",
        "📌 Instruction:\n",
        "Write simple code and run it step by step to check output. Add comments to explain."
      ],
      "metadata": {
        "id": "w4e-Y-KadLFV"
      }
    },
    {
      "cell_type": "code",
      "source": [
        "from abc import ABC, abstractmethod\n",
        "\n",
        "# Abstract Class\n",
        "class Person(ABC):\n",
        "    def __init__(self, name, age):\n",
        "        self._name = name        # protected (encapsulation)\n",
        "        self._age = age\n",
        "\n",
        "    @abstractmethod\n",
        "    def show(self):\n",
        "        pass\n",
        "\n",
        "\n",
        "# Student Class (inherits Person)\n",
        "class Student(Person):\n",
        "    def __init__(self, name, age, roll_number):\n",
        "        super().__init__(name, age)\n",
        "        self._roll_number = roll_number   # encapsulated attribute\n",
        "\n",
        "    # overriding show()\n",
        "    def show(self):\n",
        "        print(f\"Student: {self._name}, Age: {self._age}, Roll: {self._roll_number}\")\n",
        "\n",
        "\n",
        "# Teacher Class (inherits Person)\n",
        "class Teacher(Person):\n",
        "    def __init__(self, name, age, subject):\n",
        "        super().__init__(name, age)\n",
        "        self._subject = subject\n",
        "\n",
        "    # overriding show()\n",
        "    def show(self):\n",
        "        print(f\"Teacher: {self._name}, Age: {self._age}, Teaches: {self._subject}\")\n",
        "\n",
        "\n",
        "# Polymorphism in action\n",
        "people = [\n",
        "    Student(\"Alice\", 14, 101),\n",
        "    Teacher(\"Mr. John\", 40, \"Math\")\n",
        "]\n",
        "\n",
        "for person in people:\n",
        "    person.show()   # same method name, different behavior"
      ],
      "metadata": {
        "colab": {
          "base_uri": "https://localhost:8080/"
        },
        "id": "Y9yAPgiX9EUu",
        "outputId": "1dd6b300-eb6b-4ea3-add2-2a10d43b64bb"
      },
      "execution_count": 21,
      "outputs": [
        {
          "output_type": "stream",
          "name": "stdout",
          "text": [
            "Student: Alice, Age: 14, Roll: 101\n",
            "Teacher: Mr. John, Age: 40, Teaches: Math\n"
          ]
        }
      ]
    },
    {
      "cell_type": "code",
      "source": [],
      "metadata": {
        "id": "TI_i0F_-9ER7"
      },
      "execution_count": null,
      "outputs": []
    },
    {
      "cell_type": "markdown",
      "source": [
        "# **1️⃣3️⃣ Quiz**\n",
        "\n",
        "- Which OOP concept hides internal details?\n",
        "- Which method initializes an object?\n",
        "- Which keyword calls a parent class method?\n",
        "- What is method overriding?"
      ],
      "metadata": {
        "id": "kyLB1rOpeXCN"
      }
    },
    {
      "cell_type": "markdown",
      "source": [
        "1. Encapsulation\n",
        "2. The __init__ constructor method in Python.\n",
        "3. The super() keyword.\n",
        "4. When a child class provides its own implementation of a method that already exists in the parent class."
      ],
      "metadata": {
        "id": "zuousTJjEKwZ"
      }
    },
    {
      "cell_type": "code",
      "source": [],
      "metadata": {
        "id": "yaCKUrX3ewjU"
      },
      "execution_count": null,
      "outputs": []
    }
  ]
}